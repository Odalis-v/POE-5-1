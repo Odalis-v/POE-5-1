{
  "nbformat": 4,
  "nbformat_minor": 0,
  "metadata": {
    "colab": {
      "name": "IMC",
      "provenance": [],
      "authorship_tag": "ABX9TyNZ1IwqK9o1I8tT4vEKU4LG",
      "include_colab_link": true
    },
    "kernelspec": {
      "name": "python3",
      "display_name": "Python 3"
    },
    "language_info": {
      "name": "python"
    }
  },
  "cells": [
    {
      "cell_type": "markdown",
      "metadata": {
        "id": "view-in-github",
        "colab_type": "text"
      },
      "source": [
        "<a href=\"https://colab.research.google.com/github/Odalis-v/POE-5-1/blob/main/IMC.ipynb\" target=\"_parent\"><img src=\"https://colab.research.google.com/assets/colab-badge.svg\" alt=\"Open In Colab\"/></a>"
      ]
    },
    {
      "cell_type": "code",
      "execution_count": 5,
      "metadata": {
        "colab": {
          "base_uri": "https://localhost:8080/"
        },
        "id": "luIy8xKWAyhJ",
        "outputId": "eb7d7c63-bb2a-4bd8-947e-04077a537067"
      },
      "outputs": [
        {
          "output_type": "stream",
          "name": "stdout",
          "text": [
            "24.221453287197235\n"
          ]
        }
      ],
      "source": [
        "#@title Calculo del Indice de Masa Corporal { run: \"auto\", vertical-output: true }\n",
        "estatura =  1.70#@param {type:\"number\"}\n",
        "Peso =  70#@param {type:\"number\"}\n",
        "print(Peso/(estatura*estatura))\n"
      ]
    }
  ]
}